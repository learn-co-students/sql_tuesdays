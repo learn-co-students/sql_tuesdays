{
 "cells": [
  {
   "cell_type": "markdown",
   "metadata": {},
   "source": [
    "From pgexercises.com"
   ]
  },
  {
   "cell_type": "markdown",
   "metadata": {},
   "source": [
    "[Simple Join #1](https://pgexercises.com/questions/joins/simplejoin.html):\n",
    "\n",
    "Retrieve the start times of members' bookings\n",
    "\n",
    "**Hints:**  \n",
    "Use aliases: SELECT t.name FROM example_table t  \n",
    "You will use the `ON`, `WHERE` and `AND` keywords.  \n"
   ]
  },
  {
   "cell_type": "markdown",
   "metadata": {},
   "source": [
    "==SOLUTION==  \n",
    "SELECT b.starttime  \n",
    "    FROM cd.bookings b  \n",
    "    JOIN cd.members m  \n",
    "ON b.memid = m.memid  \n",
    "WHERE m.firstname = 'David'  \n",
    "AND m.surname = 'Farrell'  "
   ]
  },
  {
   "cell_type": "markdown",
   "metadata": {},
   "source": [
    "[Simple Join #2](https://pgexercises.com/questions/joins/simplejoin.html): \n",
    "\n",
    "How can you produce a list of the start times for bookings for tennis courts, for the date '2012-09-21'? Return a list of start time and facility name pairings, ordered by the time.\n",
    "\n",
    "**Hints**:  \n",
    "\n",
    "Datetime objects ('2021-09-21') can be used with >/< logic  \n",
    "Use the `LIKE` and `%` operators to match the strings"
   ]
  },
  {
   "cell_type": "markdown",
   "metadata": {},
   "source": [
    "==SOLUTION==  \n",
    "SELECT b.starttime AS start, f.name  \n",
    "\tfrom cd.bookings b  \n",
    "\tJOIN cd.facilities f  \n",
    "\tON b.facid = f.facid  \n",
    "WHERE b.starttime > '2012-09-21'  \n",
    "AND b.starttime < '2012-09-22'  \n",
    "AND f.name LIKE 'Tennis Court%'  \n",
    "ORDER BY b.starttime  "
   ]
  },
  {
   "cell_type": "code",
   "execution_count": null,
   "metadata": {},
   "outputs": [],
   "source": []
  }
 ],
 "metadata": {
  "kernelspec": {
   "display_name": "learn-env",
   "language": "python",
   "name": "learn-env"
  },
  "language_info": {
   "codemirror_mode": {
    "name": "ipython",
    "version": 3
   },
   "file_extension": ".py",
   "mimetype": "text/x-python",
   "name": "python",
   "nbconvert_exporter": "python",
   "pygments_lexer": "ipython3",
   "version": "3.8.5"
  }
 },
 "nbformat": 4,
 "nbformat_minor": 4
}
